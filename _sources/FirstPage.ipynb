{
  "nbformat": 4,
  "nbformat_minor": 0,
  "metadata": {
    "colab": {
      "name": "data_preparation.ipynb",
      "provenance": [],
      "collapsed_sections": [],
      "toc_visible": true
    },
    "kernelspec": {
      "name": "python3",
      "display_name": "Python 3"
    }
  },
  "cells": [
    {
      "cell_type": "markdown",
      "metadata": {
        "id": "-fXSWDHWda1x"
      },
      "source": [
        "# Setup"
      ]
    },
    {
      "cell_type": "markdown",
      "metadata": {
        "id": "fOiqvqQsZoEe"
      },
      "source": [
        "### General Imports"
      ]
    },
    {
      "cell_type": "code",
      "metadata": {
        "id": "GM03PXXqOIR9"
      },
      "source": [
        "import os\r\n",
        "import pandas as pd\r\n",
        "import numpy as np\r\n",
        "import matplotlib.pyplot as plt\r\n",
        "import seaborn as sns"
      ],
      "execution_count": null,
      "outputs": []
    },
    {
      "cell_type": "code",
      "metadata": {
        "id": "-5tW3V1vR7j2",
        "colab": {
          "base_uri": "https://localhost:8080/"
        },
        "outputId": "187d8bc7-a177-4a33-e95e-ffea52033bb2"
      },
      "source": [
        "from __future__ import print_function\r\n",
        "\r\n",
        "import collections\r\n",
        "from mpl_toolkits.mplot3d import Axes3D\r\n",
        "from IPython import display\r\n",
        "import sklearn\r\n",
        "import sklearn.manifold\r\n",
        "import tensorflow.compat.v1 as tf\r\n",
        "tf.disable_v2_behavior()\r\n",
        "tf.logging.set_verbosity(tf.logging.ERROR)"
      ],
      "execution_count": null,
      "outputs": [
        {
          "output_type": "stream",
          "text": [
            "WARNING:tensorflow:From /usr/local/lib/python3.6/dist-packages/tensorflow/python/compat/v2_compat.py:96: disable_resource_variables (from tensorflow.python.ops.variable_scope) is deprecated and will be removed in a future version.\n",
            "Instructions for updating:\n",
            "non-resource variables are not supported in the long term\n"
          ],
          "name": "stdout"
        }
      ]
    },
    {
      "cell_type": "markdown",
      "metadata": {
        "id": "cxNFK6U_Zy7_"
      },
      "source": [
        "### Google Drive Setup"
      ]
    },
    {
      "cell_type": "code",
      "metadata": {
        "colab": {
          "base_uri": "https://localhost:8080/"
        },
        "id": "QUlH9fnzOM47",
        "outputId": "6b8db794-e7df-4ac4-905c-5df6c6eece6f"
      },
      "source": [
        "from google.colab import drive\r\n",
        "drive.mount('/content/drive')"
      ],
      "execution_count": null,
      "outputs": [
        {
          "output_type": "stream",
          "text": [
            "Mounted at /content/drive\n"
          ],
          "name": "stdout"
        }
      ]
    },
    {
      "cell_type": "code",
      "metadata": {
        "id": "tq3qjx0uOPct"
      },
      "source": [
        "#os.chdir('/content/drive/My Drive/CA4015/Assignment 4/Assignment_4')   # Daniel\r\n",
        "#os.chdir('/content/drive/My Drive/CA4015/Assignment_4/') # John\r\n",
        "os.chdir('/content/drive/My Drive/College - 4th Year/CA4015_AdvancedML/Assignment_4') # Liam"
      ],
      "execution_count": null,
      "outputs": []
    },
    {
      "cell_type": "markdown",
      "metadata": {
        "id": "muWw7KRiZ2Ls"
      },
      "source": [
        "### Define Utility Functions"
      ]
    },
    {
      "cell_type": "code",
      "metadata": {
        "colab": {
          "base_uri": "https://localhost:8080/"
        },
        "id": "O5DRjKs31_ey",
        "outputId": "3dfb63fe-84c0-4f6c-b0c7-1a5406e57e8c"
      },
      "source": [
        "%%capture\r\n",
        "# Add some convenience functions to Pandas DataFrame.\r\n",
        "pd.options.display.max_rows = 10\r\n",
        "pd.options.display.float_format = '{:.3f}'.format\r\n",
        "def mask(df, key, function):\r\n",
        "  \"\"\"Returns a filtered dataframe, by applying function to key\"\"\"\r\n",
        "  return df[function(df[key])]\r\n",
        "\r\n",
        "def flatten_cols(df):\r\n",
        "  df.columns = [' '.join(col).strip() for col in df.columns.values]\r\n",
        "  return df\r\n",
        "\r\n",
        "pd.DataFrame.mask = mask\r\n",
        "pd.DataFrame.flatten_cols = flatten_cols\r\n",
        "\r\n",
        "# Install Altair and activate its colab renderer.\r\n",
        "print(\"Installing Altair...\")\r\n",
        "!pip install git+git://github.com/altair-viz/altair.git\r\n",
        "import altair as alt\r\n",
        "alt.data_transformers.enable('default', max_rows=None)\r\n",
        "alt.renderers.enable('colab')\r\n",
        "print(\"Done installing Altair.\")\r\n",
        "\r\n",
        "# Install spreadsheets and import authentication module.\r\n",
        "USER_RATINGS = False\r\n",
        "!pip install --upgrade -q gspread\r\n",
        "from google.colab import auth\r\n",
        "import gspread\r\n",
        "from oauth2client.client import GoogleCredentials"
      ],
      "execution_count": null,
      "outputs": [
        {
          "output_type": "stream",
          "text": [
            "Installing Altair...\n",
            "Collecting git+git://github.com/altair-viz/altair.git\n",
            "  Cloning git://github.com/altair-viz/altair.git to /tmp/pip-req-build-rstd_acc\n",
            "  Running command git clone -q git://github.com/altair-viz/altair.git /tmp/pip-req-build-rstd_acc\n",
            "  Installing build dependencies ... \u001b[?25l\u001b[?25hdone\n",
            "  Getting requirements to build wheel ... \u001b[?25l\u001b[?25hdone\n",
            "    Preparing wheel metadata ... \u001b[?25l\u001b[?25hdone\n",
            "Requirement already satisfied: jsonschema in /usr/local/lib/python3.6/dist-packages (from altair==4.2.0.dev0) (2.6.0)\n",
            "Requirement already satisfied: pandas>=0.18 in /usr/local/lib/python3.6/dist-packages (from altair==4.2.0.dev0) (1.1.5)\n",
            "Requirement already satisfied: toolz in /usr/local/lib/python3.6/dist-packages (from altair==4.2.0.dev0) (0.11.1)\n",
            "Requirement already satisfied: numpy in /usr/local/lib/python3.6/dist-packages (from altair==4.2.0.dev0) (1.19.4)\n",
            "Requirement already satisfied: jinja2 in /usr/local/lib/python3.6/dist-packages (from altair==4.2.0.dev0) (2.11.2)\n",
            "Requirement already satisfied: entrypoints in /usr/local/lib/python3.6/dist-packages (from altair==4.2.0.dev0) (0.3)\n",
            "Requirement already satisfied: pytz>=2017.2 in /usr/local/lib/python3.6/dist-packages (from pandas>=0.18->altair==4.2.0.dev0) (2018.9)\n",
            "Requirement already satisfied: python-dateutil>=2.7.3 in /usr/local/lib/python3.6/dist-packages (from pandas>=0.18->altair==4.2.0.dev0) (2.8.1)\n",
            "Requirement already satisfied: MarkupSafe>=0.23 in /usr/local/lib/python3.6/dist-packages (from jinja2->altair==4.2.0.dev0) (1.1.1)\n",
            "Requirement already satisfied: six>=1.5 in /usr/local/lib/python3.6/dist-packages (from python-dateutil>=2.7.3->pandas>=0.18->altair==4.2.0.dev0) (1.15.0)\n",
            "Building wheels for collected packages: altair\n",
            "  Building wheel for altair (PEP 517) ... \u001b[?25l\u001b[?25hdone\n",
            "  Created wheel for altair: filename=altair-4.2.0.dev0-cp36-none-any.whl size=730117 sha256=406421386bcd010e05be5843515e5d2a88c164d1134a70ebfe5280d3fdf3fd24\n",
            "  Stored in directory: /tmp/pip-ephem-wheel-cache-s0mr6d1f/wheels/01/fd/91/025b6149b3949af76e93b3b3ceca5bf12cbdebc98fa46f9ec6\n",
            "Successfully built altair\n",
            "Installing collected packages: altair\n",
            "  Found existing installation: altair 4.1.0\n",
            "    Uninstalling altair-4.1.0:\n",
            "      Successfully uninstalled altair-4.1.0\n",
            "Successfully installed altair-4.2.0.dev0\n",
            "Done installing Altair.\n"
          ],
          "name": "stdout"
        }
      ]
    },
    {
      "cell_type": "markdown",
      "metadata": {
        "id": "yiCExVN4Z_Ad"
      },
      "source": [
        "# Loading Data"
      ]
    },
    {
      "cell_type": "markdown",
      "metadata": {
        "id": "VXgACElNaGif"
      },
      "source": [
        "Here, we read in each DataFrame and inspect each to familiarise ourselves with the data."
      ]
    },
    {
      "cell_type": "code",
      "metadata": {
        "colab": {
          "base_uri": "https://localhost:8080/",
          "height": 204
        },
        "id": "l90aQRuSOpDL",
        "outputId": "14ffbe56-da5d-466a-dd39-f9977f0556cf"
      },
      "source": [
        "artists = pd.read_csv(\"data/last.fm/artists.dat\", delimiter=\"\\t\")\r\n",
        "artists_cols = ['id', 'name', 'url', 'pictureURL']\r\n",
        "artists.head()"
      ],
      "execution_count": null,
      "outputs": [
        {
          "output_type": "execute_result",
          "data": {
            "text/html": [
              "<div>\n",
              "<style scoped>\n",
              "    .dataframe tbody tr th:only-of-type {\n",
              "        vertical-align: middle;\n",
              "    }\n",
              "\n",
              "    .dataframe tbody tr th {\n",
              "        vertical-align: top;\n",
              "    }\n",
              "\n",
              "    .dataframe thead th {\n",
              "        text-align: right;\n",
              "    }\n",
              "</style>\n",
              "<table border=\"1\" class=\"dataframe\">\n",
              "  <thead>\n",
              "    <tr style=\"text-align: right;\">\n",
              "      <th></th>\n",
              "      <th>id</th>\n",
              "      <th>name</th>\n",
              "      <th>url</th>\n",
              "      <th>pictureURL</th>\n",
              "    </tr>\n",
              "  </thead>\n",
              "  <tbody>\n",
              "    <tr>\n",
              "      <th>0</th>\n",
              "      <td>1</td>\n",
              "      <td>MALICE MIZER</td>\n",
              "      <td>http://www.last.fm/music/MALICE+MIZER</td>\n",
              "      <td>http://userserve-ak.last.fm/serve/252/10808.jpg</td>\n",
              "    </tr>\n",
              "    <tr>\n",
              "      <th>1</th>\n",
              "      <td>2</td>\n",
              "      <td>Diary of Dreams</td>\n",
              "      <td>http://www.last.fm/music/Diary+of+Dreams</td>\n",
              "      <td>http://userserve-ak.last.fm/serve/252/3052066.jpg</td>\n",
              "    </tr>\n",
              "    <tr>\n",
              "      <th>2</th>\n",
              "      <td>3</td>\n",
              "      <td>Carpathian Forest</td>\n",
              "      <td>http://www.last.fm/music/Carpathian+Forest</td>\n",
              "      <td>http://userserve-ak.last.fm/serve/252/40222717...</td>\n",
              "    </tr>\n",
              "    <tr>\n",
              "      <th>3</th>\n",
              "      <td>4</td>\n",
              "      <td>Moi dix Mois</td>\n",
              "      <td>http://www.last.fm/music/Moi+dix+Mois</td>\n",
              "      <td>http://userserve-ak.last.fm/serve/252/54697835...</td>\n",
              "    </tr>\n",
              "    <tr>\n",
              "      <th>4</th>\n",
              "      <td>5</td>\n",
              "      <td>Bella Morte</td>\n",
              "      <td>http://www.last.fm/music/Bella+Morte</td>\n",
              "      <td>http://userserve-ak.last.fm/serve/252/14789013...</td>\n",
              "    </tr>\n",
              "  </tbody>\n",
              "</table>\n",
              "</div>"
            ],
            "text/plain": [
              "   id  ...                                         pictureURL\n",
              "0   1  ...    http://userserve-ak.last.fm/serve/252/10808.jpg\n",
              "1   2  ...  http://userserve-ak.last.fm/serve/252/3052066.jpg\n",
              "2   3  ...  http://userserve-ak.last.fm/serve/252/40222717...\n",
              "3   4  ...  http://userserve-ak.last.fm/serve/252/54697835...\n",
              "4   5  ...  http://userserve-ak.last.fm/serve/252/14789013...\n",
              "\n",
              "[5 rows x 4 columns]"
            ]
          },
          "metadata": {
            "tags": []
          },
          "execution_count": 26
        }
      ]
    },
    {
      "cell_type": "code",
      "metadata": {
        "id": "IcJVq7DLPJGi",
        "colab": {
          "base_uri": "https://localhost:8080/",
          "height": 204
        },
        "outputId": "39bccbb2-7c18-44ab-99e1-3b689dbaed29"
      },
      "source": [
        "u_t_artists = pd.read_csv(\"data/last.fm/user_taggedartists.dat\", delimiter=\"\\t\")\r\n",
        "u_t_artists_cols = ['userID', 'artistID', 'tagID', 'day', 'month', 'year']\r\n",
        "u_t_artists.head()"
      ],
      "execution_count": null,
      "outputs": [
        {
          "output_type": "execute_result",
          "data": {
            "text/html": [
              "<div>\n",
              "<style scoped>\n",
              "    .dataframe tbody tr th:only-of-type {\n",
              "        vertical-align: middle;\n",
              "    }\n",
              "\n",
              "    .dataframe tbody tr th {\n",
              "        vertical-align: top;\n",
              "    }\n",
              "\n",
              "    .dataframe thead th {\n",
              "        text-align: right;\n",
              "    }\n",
              "</style>\n",
              "<table border=\"1\" class=\"dataframe\">\n",
              "  <thead>\n",
              "    <tr style=\"text-align: right;\">\n",
              "      <th></th>\n",
              "      <th>userID</th>\n",
              "      <th>artistID</th>\n",
              "      <th>tagID</th>\n",
              "      <th>day</th>\n",
              "      <th>month</th>\n",
              "      <th>year</th>\n",
              "    </tr>\n",
              "  </thead>\n",
              "  <tbody>\n",
              "    <tr>\n",
              "      <th>0</th>\n",
              "      <td>2</td>\n",
              "      <td>52</td>\n",
              "      <td>13</td>\n",
              "      <td>1</td>\n",
              "      <td>4</td>\n",
              "      <td>2009</td>\n",
              "    </tr>\n",
              "    <tr>\n",
              "      <th>1</th>\n",
              "      <td>2</td>\n",
              "      <td>52</td>\n",
              "      <td>15</td>\n",
              "      <td>1</td>\n",
              "      <td>4</td>\n",
              "      <td>2009</td>\n",
              "    </tr>\n",
              "    <tr>\n",
              "      <th>2</th>\n",
              "      <td>2</td>\n",
              "      <td>52</td>\n",
              "      <td>18</td>\n",
              "      <td>1</td>\n",
              "      <td>4</td>\n",
              "      <td>2009</td>\n",
              "    </tr>\n",
              "    <tr>\n",
              "      <th>3</th>\n",
              "      <td>2</td>\n",
              "      <td>52</td>\n",
              "      <td>21</td>\n",
              "      <td>1</td>\n",
              "      <td>4</td>\n",
              "      <td>2009</td>\n",
              "    </tr>\n",
              "    <tr>\n",
              "      <th>4</th>\n",
              "      <td>2</td>\n",
              "      <td>52</td>\n",
              "      <td>41</td>\n",
              "      <td>1</td>\n",
              "      <td>4</td>\n",
              "      <td>2009</td>\n",
              "    </tr>\n",
              "  </tbody>\n",
              "</table>\n",
              "</div>"
            ],
            "text/plain": [
              "   userID  artistID  tagID  day  month  year\n",
              "0       2        52     13    1      4  2009\n",
              "1       2        52     15    1      4  2009\n",
              "2       2        52     18    1      4  2009\n",
              "3       2        52     21    1      4  2009\n",
              "4       2        52     41    1      4  2009"
            ]
          },
          "metadata": {
            "tags": []
          },
          "execution_count": 27
        }
      ]
    },
    {
      "cell_type": "code",
      "metadata": {
        "id": "eVX3xr8TQGhx",
        "colab": {
          "base_uri": "https://localhost:8080/",
          "height": 204
        },
        "outputId": "054bffd9-2d8d-4ab3-bc19-1343f0cd66c3"
      },
      "source": [
        "uta_timestamps = pd.read_csv(\"data/last.fm/user_taggedartists-timestamps.dat\",delimiter=\"\\t\")\r\n",
        "uta_timestamps_cols = ['userID', 'artistID', 'tagID', 'timestamp']\r\n",
        "uta_timestamps.head()"
      ],
      "execution_count": null,
      "outputs": [
        {
          "output_type": "execute_result",
          "data": {
            "text/html": [
              "<div>\n",
              "<style scoped>\n",
              "    .dataframe tbody tr th:only-of-type {\n",
              "        vertical-align: middle;\n",
              "    }\n",
              "\n",
              "    .dataframe tbody tr th {\n",
              "        vertical-align: top;\n",
              "    }\n",
              "\n",
              "    .dataframe thead th {\n",
              "        text-align: right;\n",
              "    }\n",
              "</style>\n",
              "<table border=\"1\" class=\"dataframe\">\n",
              "  <thead>\n",
              "    <tr style=\"text-align: right;\">\n",
              "      <th></th>\n",
              "      <th>userID</th>\n",
              "      <th>artistID</th>\n",
              "      <th>tagID</th>\n",
              "      <th>timestamp</th>\n",
              "    </tr>\n",
              "  </thead>\n",
              "  <tbody>\n",
              "    <tr>\n",
              "      <th>0</th>\n",
              "      <td>2</td>\n",
              "      <td>52</td>\n",
              "      <td>13</td>\n",
              "      <td>1238536800000</td>\n",
              "    </tr>\n",
              "    <tr>\n",
              "      <th>1</th>\n",
              "      <td>2</td>\n",
              "      <td>52</td>\n",
              "      <td>15</td>\n",
              "      <td>1238536800000</td>\n",
              "    </tr>\n",
              "    <tr>\n",
              "      <th>2</th>\n",
              "      <td>2</td>\n",
              "      <td>52</td>\n",
              "      <td>18</td>\n",
              "      <td>1238536800000</td>\n",
              "    </tr>\n",
              "    <tr>\n",
              "      <th>3</th>\n",
              "      <td>2</td>\n",
              "      <td>52</td>\n",
              "      <td>21</td>\n",
              "      <td>1238536800000</td>\n",
              "    </tr>\n",
              "    <tr>\n",
              "      <th>4</th>\n",
              "      <td>2</td>\n",
              "      <td>52</td>\n",
              "      <td>41</td>\n",
              "      <td>1238536800000</td>\n",
              "    </tr>\n",
              "  </tbody>\n",
              "</table>\n",
              "</div>"
            ],
            "text/plain": [
              "   userID  artistID  tagID      timestamp\n",
              "0       2        52     13  1238536800000\n",
              "1       2        52     15  1238536800000\n",
              "2       2        52     18  1238536800000\n",
              "3       2        52     21  1238536800000\n",
              "4       2        52     41  1238536800000"
            ]
          },
          "metadata": {
            "tags": []
          },
          "execution_count": 10
        }
      ]
    },
    {
      "cell_type": "markdown",
      "metadata": {
        "id": "ddj4I9RpJbsD"
      },
      "source": [
        "Above, we can see that this file holds the same information as the previous one but instead of a date, a *timestamp* is provided."
      ]
    },
    {
      "cell_type": "code",
      "metadata": {
        "id": "fudah-9TQvdW",
        "colab": {
          "base_uri": "https://localhost:8080/",
          "height": 204
        },
        "outputId": "d3100732-639f-4b5e-9e7d-1658de5da1fc"
      },
      "source": [
        "user_artists = pd.read_csv(\"data/last.fm/user_artists.dat\",delimiter=\"\\t\")\r\n",
        "user_artists_cols = ['userID', 'artistID', 'weight']\r\n",
        "user_artists.head()"
      ],
      "execution_count": null,
      "outputs": [
        {
          "output_type": "execute_result",
          "data": {
            "text/html": [
              "<div>\n",
              "<style scoped>\n",
              "    .dataframe tbody tr th:only-of-type {\n",
              "        vertical-align: middle;\n",
              "    }\n",
              "\n",
              "    .dataframe tbody tr th {\n",
              "        vertical-align: top;\n",
              "    }\n",
              "\n",
              "    .dataframe thead th {\n",
              "        text-align: right;\n",
              "    }\n",
              "</style>\n",
              "<table border=\"1\" class=\"dataframe\">\n",
              "  <thead>\n",
              "    <tr style=\"text-align: right;\">\n",
              "      <th></th>\n",
              "      <th>userID</th>\n",
              "      <th>artistID</th>\n",
              "      <th>weight</th>\n",
              "    </tr>\n",
              "  </thead>\n",
              "  <tbody>\n",
              "    <tr>\n",
              "      <th>0</th>\n",
              "      <td>2</td>\n",
              "      <td>51</td>\n",
              "      <td>13883</td>\n",
              "    </tr>\n",
              "    <tr>\n",
              "      <th>1</th>\n",
              "      <td>2</td>\n",
              "      <td>52</td>\n",
              "      <td>11690</td>\n",
              "    </tr>\n",
              "    <tr>\n",
              "      <th>2</th>\n",
              "      <td>2</td>\n",
              "      <td>53</td>\n",
              "      <td>11351</td>\n",
              "    </tr>\n",
              "    <tr>\n",
              "      <th>3</th>\n",
              "      <td>2</td>\n",
              "      <td>54</td>\n",
              "      <td>10300</td>\n",
              "    </tr>\n",
              "    <tr>\n",
              "      <th>4</th>\n",
              "      <td>2</td>\n",
              "      <td>55</td>\n",
              "      <td>8983</td>\n",
              "    </tr>\n",
              "  </tbody>\n",
              "</table>\n",
              "</div>"
            ],
            "text/plain": [
              "   userID  artistID  weight\n",
              "0       2        51   13883\n",
              "1       2        52   11690\n",
              "2       2        53   11351\n",
              "3       2        54   10300\n",
              "4       2        55    8983"
            ]
          },
          "metadata": {
            "tags": []
          },
          "execution_count": 11
        }
      ]
    },
    {
      "cell_type": "markdown",
      "metadata": {
        "id": "of6O2lF7JMyo"
      },
      "source": [
        "The *weight* column above is indicative of a listening count for each [user, artist] pair according to the documentation provided with the dataset."
      ]
    },
    {
      "cell_type": "code",
      "metadata": {
        "id": "TySiR2Y1QwtD",
        "colab": {
          "base_uri": "https://localhost:8080/",
          "height": 204
        },
        "outputId": "91e7a5ea-cc77-45bc-f235-0dc38431f157"
      },
      "source": [
        "user_friends = pd.read_csv(\"data/last.fm/user_friends.dat\",delimiter=\"\\t\")\r\n",
        "user_friends_cols = ['userID', 'friendID']\r\n",
        "user_friends.head()"
      ],
      "execution_count": null,
      "outputs": [
        {
          "output_type": "execute_result",
          "data": {
            "text/html": [
              "<div>\n",
              "<style scoped>\n",
              "    .dataframe tbody tr th:only-of-type {\n",
              "        vertical-align: middle;\n",
              "    }\n",
              "\n",
              "    .dataframe tbody tr th {\n",
              "        vertical-align: top;\n",
              "    }\n",
              "\n",
              "    .dataframe thead th {\n",
              "        text-align: right;\n",
              "    }\n",
              "</style>\n",
              "<table border=\"1\" class=\"dataframe\">\n",
              "  <thead>\n",
              "    <tr style=\"text-align: right;\">\n",
              "      <th></th>\n",
              "      <th>userID</th>\n",
              "      <th>friendID</th>\n",
              "    </tr>\n",
              "  </thead>\n",
              "  <tbody>\n",
              "    <tr>\n",
              "      <th>0</th>\n",
              "      <td>2</td>\n",
              "      <td>275</td>\n",
              "    </tr>\n",
              "    <tr>\n",
              "      <th>1</th>\n",
              "      <td>2</td>\n",
              "      <td>428</td>\n",
              "    </tr>\n",
              "    <tr>\n",
              "      <th>2</th>\n",
              "      <td>2</td>\n",
              "      <td>515</td>\n",
              "    </tr>\n",
              "    <tr>\n",
              "      <th>3</th>\n",
              "      <td>2</td>\n",
              "      <td>761</td>\n",
              "    </tr>\n",
              "    <tr>\n",
              "      <th>4</th>\n",
              "      <td>2</td>\n",
              "      <td>831</td>\n",
              "    </tr>\n",
              "  </tbody>\n",
              "</table>\n",
              "</div>"
            ],
            "text/plain": [
              "   userID  friendID\n",
              "0       2       275\n",
              "1       2       428\n",
              "2       2       515\n",
              "3       2       761\n",
              "4       2       831"
            ]
          },
          "metadata": {
            "tags": []
          },
          "execution_count": 28
        }
      ]
    },
    {
      "cell_type": "code",
      "metadata": {
        "colab": {
          "base_uri": "https://localhost:8080/"
        },
        "id": "hZZXeERTa_Im",
        "outputId": "eed943e0-1698-4020-d9fa-de2ad797c0d6"
      },
      "source": [
        "user_friends.info()"
      ],
      "execution_count": null,
      "outputs": [
        {
          "output_type": "stream",
          "text": [
            "<class 'pandas.core.frame.DataFrame'>\n",
            "RangeIndex: 25434 entries, 0 to 25433\n",
            "Data columns (total 2 columns):\n",
            " #   Column    Non-Null Count  Dtype\n",
            "---  ------    --------------  -----\n",
            " 0   userID    25434 non-null  int64\n",
            " 1   friendID  25434 non-null  int64\n",
            "dtypes: int64(2)\n",
            "memory usage: 397.5 KB\n"
          ],
          "name": "stdout"
        }
      ]
    },
    {
      "cell_type": "markdown",
      "metadata": {
        "id": "_GvmHNwqJ17A"
      },
      "source": [
        "The above DataFrame provides the friend relationships between users on the platform. There are 25,434 rows which represent 12,717 bidirectional relationships whereby each friend relationship occurs twice in the DataFrame.\r\n",
        "\r\n"
      ]
    },
    {
      "cell_type": "code",
      "metadata": {
        "colab": {
          "base_uri": "https://localhost:8080/",
          "height": 204
        },
        "id": "1GA84SA1Rza_",
        "outputId": "68d1596f-b64e-4f0a-e731-96078561712c"
      },
      "source": [
        "tags = pd.read_csv(\"data/last.fm/tags.dat\",delimiter=\"\\t\", encoding='latin-1')\r\n",
        "tags_cols = ['tagID', 'tagValue']\r\n",
        "tags.head()"
      ],
      "execution_count": null,
      "outputs": [
        {
          "output_type": "execute_result",
          "data": {
            "text/html": [
              "<div>\n",
              "<style scoped>\n",
              "    .dataframe tbody tr th:only-of-type {\n",
              "        vertical-align: middle;\n",
              "    }\n",
              "\n",
              "    .dataframe tbody tr th {\n",
              "        vertical-align: top;\n",
              "    }\n",
              "\n",
              "    .dataframe thead th {\n",
              "        text-align: right;\n",
              "    }\n",
              "</style>\n",
              "<table border=\"1\" class=\"dataframe\">\n",
              "  <thead>\n",
              "    <tr style=\"text-align: right;\">\n",
              "      <th></th>\n",
              "      <th>tagID</th>\n",
              "      <th>tagValue</th>\n",
              "    </tr>\n",
              "  </thead>\n",
              "  <tbody>\n",
              "    <tr>\n",
              "      <th>0</th>\n",
              "      <td>1</td>\n",
              "      <td>metal</td>\n",
              "    </tr>\n",
              "    <tr>\n",
              "      <th>1</th>\n",
              "      <td>2</td>\n",
              "      <td>alternative metal</td>\n",
              "    </tr>\n",
              "    <tr>\n",
              "      <th>2</th>\n",
              "      <td>3</td>\n",
              "      <td>goth rock</td>\n",
              "    </tr>\n",
              "    <tr>\n",
              "      <th>3</th>\n",
              "      <td>4</td>\n",
              "      <td>black metal</td>\n",
              "    </tr>\n",
              "    <tr>\n",
              "      <th>4</th>\n",
              "      <td>5</td>\n",
              "      <td>death metal</td>\n",
              "    </tr>\n",
              "  </tbody>\n",
              "</table>\n",
              "</div>"
            ],
            "text/plain": [
              "   tagID           tagValue\n",
              "0      1              metal\n",
              "1      2  alternative metal\n",
              "2      3          goth rock\n",
              "3      4        black metal\n",
              "4      5        death metal"
            ]
          },
          "metadata": {
            "tags": []
          },
          "execution_count": 13
        }
      ]
    },
    {
      "cell_type": "markdown",
      "metadata": {
        "id": "UHOKmTMZKYqy"
      },
      "source": [
        "The above DataFrame is a unique list of the tags assigned to artists by users. The next step is to check for missing values in all of the DataFrames..."
      ]
    },
    {
      "cell_type": "markdown",
      "metadata": {
        "id": "n7AAPFvedtHZ"
      },
      "source": [
        "### Chekcing for Missing Values"
      ]
    },
    {
      "cell_type": "code",
      "metadata": {
        "colab": {
          "base_uri": "https://localhost:8080/"
        },
        "id": "w_0vXUUQ_Zll",
        "outputId": "35261126-6ba3-40e3-f15c-749c05a2f83c"
      },
      "source": [
        "print(\"user_artists: \", user_artists.isnull().values.any())\r\n",
        "print(\"user_friends: \", user_friends.isnull().values.any())\r\n",
        "print(\"u_t_artists: \", u_t_artists.isnull().values.any())\r\n",
        "print(\"uta_timestamps: \",uta_timestamps.isnull().values.any())\r\n",
        "print(\"artists: \", artists.isnull().values.any())\r\n",
        "print(\"tags: \", tags.isnull().values.any())"
      ],
      "execution_count": null,
      "outputs": [
        {
          "output_type": "stream",
          "text": [
            "user_artists:  False\n",
            "user_friends:  False\n",
            "u_t_artists:  False\n",
            "uta_timestamps:  False\n",
            "artists:  True\n",
            "tags:  False\n"
          ],
          "name": "stdout"
        }
      ]
    },
    {
      "cell_type": "markdown",
      "metadata": {
        "id": "gzzJ5uVkS_CT"
      },
      "source": [
        "The *artists* table does contain null values, so the next step is to investigate these."
      ]
    },
    {
      "cell_type": "code",
      "metadata": {
        "colab": {
          "base_uri": "https://localhost:8080/"
        },
        "id": "vfnqn4pATFVQ",
        "outputId": "8e07762f-bdcd-4263-a5a4-85db023e77b3"
      },
      "source": [
        "artists.isnull().any()"
      ],
      "execution_count": null,
      "outputs": [
        {
          "output_type": "execute_result",
          "data": {
            "text/plain": [
              "id            False\n",
              "name          False\n",
              "url           False\n",
              "pictureURL     True\n",
              "dtype: bool"
            ]
          },
          "metadata": {
            "tags": []
          },
          "execution_count": 16
        }
      ]
    },
    {
      "cell_type": "markdown",
      "metadata": {
        "id": "PMl2zXl4TtdE"
      },
      "source": [
        "The only column which contains null values is the *pictureURL* column. This doesn't affect our work so there is no need to remove or clean any instances."
      ]
    },
    {
      "cell_type": "markdown",
      "metadata": {
        "id": "kDnTX1pOcYfX"
      },
      "source": [
        "### Reindexing ID Columns"
      ]
    },
    {
      "cell_type": "markdown",
      "metadata": {
        "id": "1r_eD1GeAfyl"
      },
      "source": [
        "All of the user, artists and tag IDs do not start at zero. For the sake of efficiency later on, we will change the IDs in each DataFrame."
      ]
    },
    {
      "cell_type": "code",
      "metadata": {
        "id": "NMGHkLX9_fwv"
      },
      "source": [
        "user_artists[\"userID\"] = user_artists[\"userID\"].apply(lambda x: str(x-2))\r\n",
        "user_artists[\"artistID\"] = user_artists[\"artistID\"].apply(lambda x: str(x-1))\r\n",
        "\r\n",
        "artists[\"id\"] = artists[\"id\"].apply(lambda x: str(x-1))\r\n",
        "\r\n",
        "u_t_artists[\"userID\"] = u_t_artists[\"userID\"].apply(lambda x: str(x-2))\r\n",
        "u_t_artists[\"artistID\"] = u_t_artists[\"artistID\"].apply(lambda x: str(x-1))\r\n",
        "u_t_artists[\"tagID\"] = u_t_artists[\"tagID\"].apply(lambda x: str(x-1))\r\n",
        "\r\n",
        "uta_timestamps[\"userID\"] = uta_timestamps[\"userID\"].apply(lambda x: str(x-2))\r\n",
        "uta_timestamps[\"artistID\"] = uta_timestamps[\"artistID\"].apply(lambda x: str(x-1))\r\n",
        "uta_timestamps[\"tagID\"] = uta_timestamps[\"tagID\"].apply(lambda x: str(x-1))\r\n",
        "\r\n",
        "tags[\"tagID\"] = tags[\"tagID\"].apply(lambda x: str(x-1))\r\n",
        "\r\n",
        "user_friends[\"userID\"] = user_friends[\"userID\"].apply(lambda x: str(x-2))\r\n",
        "user_friends[\"friendID\"] = user_friends[\"friendID\"].apply(lambda x: str(x-2))"
      ],
      "execution_count": null,
      "outputs": []
    },
    {
      "cell_type": "code",
      "metadata": {
        "colab": {
          "base_uri": "https://localhost:8080/"
        },
        "id": "Tj67Baw5DXMy",
        "outputId": "d04fe491-17cd-4ba4-a57e-d8563f575a02"
      },
      "source": [
        "print('Unique userID list: ', user_artists.userID.unique())\r\n",
        "print('Unique artistID list: ', user_artists.artistID.unique())"
      ],
      "execution_count": null,
      "outputs": [
        {
          "output_type": "stream",
          "text": [
            "Unique userID list ['0' '1' '2' ... '2095' '2097' '2098']\n",
            "Unique artistID list ['50' '51' '52' ... '18727' '18728' '18729']\n"
          ],
          "name": "stdout"
        }
      ]
    },
    {
      "cell_type": "code",
      "metadata": {
        "colab": {
          "base_uri": "https://localhost:8080/",
          "height": 173
        },
        "id": "oWr8T0npDa2m",
        "outputId": "0a16faf3-784f-4e85-ddfe-56e5d0f529c8"
      },
      "source": [
        "user_artists.describe(include=[np.object])"
      ],
      "execution_count": null,
      "outputs": [
        {
          "output_type": "execute_result",
          "data": {
            "text/html": [
              "<div>\n",
              "<style scoped>\n",
              "    .dataframe tbody tr th:only-of-type {\n",
              "        vertical-align: middle;\n",
              "    }\n",
              "\n",
              "    .dataframe tbody tr th {\n",
              "        vertical-align: top;\n",
              "    }\n",
              "\n",
              "    .dataframe thead th {\n",
              "        text-align: right;\n",
              "    }\n",
              "</style>\n",
              "<table border=\"1\" class=\"dataframe\">\n",
              "  <thead>\n",
              "    <tr style=\"text-align: right;\">\n",
              "      <th></th>\n",
              "      <th>userID</th>\n",
              "      <th>artistID</th>\n",
              "    </tr>\n",
              "  </thead>\n",
              "  <tbody>\n",
              "    <tr>\n",
              "      <th>count</th>\n",
              "      <td>92834</td>\n",
              "      <td>92834</td>\n",
              "    </tr>\n",
              "    <tr>\n",
              "      <th>unique</th>\n",
              "      <td>1892</td>\n",
              "      <td>17632</td>\n",
              "    </tr>\n",
              "    <tr>\n",
              "      <th>top</th>\n",
              "      <td>459</td>\n",
              "      <td>88</td>\n",
              "    </tr>\n",
              "    <tr>\n",
              "      <th>freq</th>\n",
              "      <td>50</td>\n",
              "      <td>611</td>\n",
              "    </tr>\n",
              "  </tbody>\n",
              "</table>\n",
              "</div>"
            ],
            "text/plain": [
              "       userID artistID\n",
              "count   92834    92834\n",
              "unique   1892    17632\n",
              "top       459       88\n",
              "freq       50      611"
            ]
          },
          "metadata": {
            "tags": []
          },
          "execution_count": 19
        }
      ]
    },
    {
      "cell_type": "markdown",
      "metadata": {
        "id": "CddwLUOSHCQ1"
      },
      "source": [
        "We have now changed the IDs to start from 0 but the number of unique userIDs in the *user_artists* table the doesn't match the last userID and artistID. So for both cases, we cannot assume that the index of the table equals the ID."
      ]
    },
    {
      "cell_type": "code",
      "metadata": {
        "colab": {
          "base_uri": "https://localhost:8080/",
          "height": 173
        },
        "id": "ldeOwuPWHD4U",
        "outputId": "b0276918-b9a2-4555-98f4-0000ebaa0da8"
      },
      "source": [
        "tags.describe(include=[np.object])"
      ],
      "execution_count": null,
      "outputs": [
        {
          "output_type": "execute_result",
          "data": {
            "text/html": [
              "<div>\n",
              "<style scoped>\n",
              "    .dataframe tbody tr th:only-of-type {\n",
              "        vertical-align: middle;\n",
              "    }\n",
              "\n",
              "    .dataframe tbody tr th {\n",
              "        vertical-align: top;\n",
              "    }\n",
              "\n",
              "    .dataframe thead th {\n",
              "        text-align: right;\n",
              "    }\n",
              "</style>\n",
              "<table border=\"1\" class=\"dataframe\">\n",
              "  <thead>\n",
              "    <tr style=\"text-align: right;\">\n",
              "      <th></th>\n",
              "      <th>tagID</th>\n",
              "      <th>tagValue</th>\n",
              "    </tr>\n",
              "  </thead>\n",
              "  <tbody>\n",
              "    <tr>\n",
              "      <th>count</th>\n",
              "      <td>11946</td>\n",
              "      <td>11946</td>\n",
              "    </tr>\n",
              "    <tr>\n",
              "      <th>unique</th>\n",
              "      <td>11946</td>\n",
              "      <td>11946</td>\n",
              "    </tr>\n",
              "    <tr>\n",
              "      <th>top</th>\n",
              "      <td>10200</td>\n",
              "      <td>liam gallagher</td>\n",
              "    </tr>\n",
              "    <tr>\n",
              "      <th>freq</th>\n",
              "      <td>1</td>\n",
              "      <td>1</td>\n",
              "    </tr>\n",
              "  </tbody>\n",
              "</table>\n",
              "</div>"
            ],
            "text/plain": [
              "        tagID        tagValue\n",
              "count   11946           11946\n",
              "unique  11946           11946\n",
              "top     10200  liam gallagher\n",
              "freq        1               1"
            ]
          },
          "metadata": {
            "tags": []
          },
          "execution_count": 20
        }
      ]
    },
    {
      "cell_type": "markdown",
      "metadata": {
        "id": "fnTFfefhd3yd"
      },
      "source": [
        "Now, we write the cleaned DataFrames to our shared Google Drive folder."
      ]
    },
    {
      "cell_type": "code",
      "metadata": {
        "id": "dIoZZQuPW5iZ",
        "colab": {
          "base_uri": "https://localhost:8080/",
          "height": 52
        },
        "outputId": "a4066faa-fd9f-4aa5-b936-62514c8ad00c"
      },
      "source": [
        "#Don't run this cell again\r\n",
        "\"\"\"\r\n",
        "user_artists.to_csv('data_clean/user_artists.csv')\r\n",
        "user_friends.to_csv('data_clean/user_friends.csv')\r\n",
        "u_t_artists.to_csv('data_clean/u_t_artists.csv')\r\n",
        "uta_timestamps.to_csv('data_clean/uta_timestamps.csv')\r\n",
        "artists.to_csv('data_clean/artists.csv')\r\n",
        "tags.to_csv('data_clean/tags.csv')\r\n",
        "\"\"\""
      ],
      "execution_count": null,
      "outputs": [
        {
          "output_type": "execute_result",
          "data": {
            "application/vnd.google.colaboratory.intrinsic+json": {
              "type": "string"
            },
            "text/plain": [
              "\"\\nuser_artists.to_csv('data_clean/user_artists.csv')\\nuser_friends.to_csv('data_clean/user_friends.csv')\\nu_t_artists.to_csv('data_clean/u_t_artists.csv')\\nuta_timestamps.to_csv('data_clean/uta_timestamps.csv')\\nartists.to_csv('data_clean/artists.csv')\\ntags.to_csv('data_clean/tags.csv')\\n\""
            ]
          },
          "metadata": {
            "tags": []
          },
          "execution_count": 22
        }
      ]
    },
    {
      "cell_type": "markdown",
      "metadata": {
        "id": "Kn-UtciRGupA"
      },
      "source": [
        "It may also be conveninet to merge the *user_artist_tag* dataframe to show the actual tags assigned to artists using a left join. We then also save this our Drive.\r\n",
        "\r\n"
      ]
    },
    {
      "cell_type": "code",
      "metadata": {
        "id": "fzJPcQM2XexQ",
        "colab": {
          "base_uri": "https://localhost:8080/",
          "height": 35
        },
        "outputId": "ec0847b8-96df-4c64-b697-2e7bc651fbad"
      },
      "source": [
        "merged_uat = pd.merge(u_t_artists, tags, on = 'tagID', how= 'left')\r\n",
        "\"\"\"\r\n",
        "merged_uat.to_csv('data_clean/merged_user_artist_tags.csv')\r\n",
        "\"\"\"\r\n"
      ],
      "execution_count": null,
      "outputs": [
        {
          "output_type": "execute_result",
          "data": {
            "application/vnd.google.colaboratory.intrinsic+json": {
              "type": "string"
            },
            "text/plain": [
              "\"\\nmerged_uat.to_csv('data_clean/merged_user_artist_tags.csv')\\n\""
            ]
          },
          "metadata": {
            "tags": []
          },
          "execution_count": 23
        }
      ]
    },
    {
      "cell_type": "markdown",
      "metadata": {
        "id": "bND-fQV7eAnu"
      },
      "source": [
        "# Data Exploration"
      ]
    },
    {
      "cell_type": "markdown",
      "metadata": {
        "id": "a6IUaja8oOSM"
      },
      "source": [
        "To become more familiar with the data which we'll be working with, we are going to do some simple data exploration by firstly examining the most common tags."
      ]
    },
    {
      "cell_type": "markdown",
      "metadata": {
        "id": "1E3LR3bAfXuf"
      },
      "source": [
        "### Analysis of Tags"
      ]
    },
    {
      "cell_type": "code",
      "metadata": {
        "colab": {
          "base_uri": "https://localhost:8080/",
          "height": 419
        },
        "id": "dy8b4PDqLdX5",
        "outputId": "5b3ed58e-a212-4550-95e2-b50aa1800b59"
      },
      "source": [
        "tag_counts = merged_uat[['userID', 'tagValue']].groupby('tagValue').count().reset_index()\r\n",
        "top_tags = tag_counts.sort_values('userID', ascending=False).rename(columns={'userID':'count'}).head(20)\r\n",
        "top_tags"
      ],
      "execution_count": null,
      "outputs": [
        {
          "output_type": "execute_result",
          "data": {
            "text/html": [
              "<div>\n",
              "<style scoped>\n",
              "    .dataframe tbody tr th:only-of-type {\n",
              "        vertical-align: middle;\n",
              "    }\n",
              "\n",
              "    .dataframe tbody tr th {\n",
              "        vertical-align: top;\n",
              "    }\n",
              "\n",
              "    .dataframe thead th {\n",
              "        text-align: right;\n",
              "    }\n",
              "</style>\n",
              "<table border=\"1\" class=\"dataframe\">\n",
              "  <thead>\n",
              "    <tr style=\"text-align: right;\">\n",
              "      <th></th>\n",
              "      <th>tagValue</th>\n",
              "      <th>count</th>\n",
              "    </tr>\n",
              "  </thead>\n",
              "  <tbody>\n",
              "    <tr>\n",
              "      <th>7473</th>\n",
              "      <td>rock</td>\n",
              "      <td>7503</td>\n",
              "    </tr>\n",
              "    <tr>\n",
              "      <th>6802</th>\n",
              "      <td>pop</td>\n",
              "      <td>5418</td>\n",
              "    </tr>\n",
              "    <tr>\n",
              "      <th>441</th>\n",
              "      <td>alternative</td>\n",
              "      <td>5251</td>\n",
              "    </tr>\n",
              "    <tr>\n",
              "      <th>2709</th>\n",
              "      <td>electronic</td>\n",
              "      <td>4672</td>\n",
              "    </tr>\n",
              "    <tr>\n",
              "      <th>4393</th>\n",
              "      <td>indie</td>\n",
              "      <td>4458</td>\n",
              "    </tr>\n",
              "    <tr>\n",
              "      <th>...</th>\n",
              "      <td>...</td>\n",
              "      <td>...</td>\n",
              "    </tr>\n",
              "    <tr>\n",
              "      <th>5608</th>\n",
              "      <td>metal</td>\n",
              "      <td>1729</td>\n",
              "    </tr>\n",
              "    <tr>\n",
              "      <th>497</th>\n",
              "      <td>ambient</td>\n",
              "      <td>1699</td>\n",
              "    </tr>\n",
              "    <tr>\n",
              "      <th>207</th>\n",
              "      <td>90s</td>\n",
              "      <td>1615</td>\n",
              "    </tr>\n",
              "    <tr>\n",
              "      <th>6160</th>\n",
              "      <td>new wave</td>\n",
              "      <td>1595</td>\n",
              "    </tr>\n",
              "    <tr>\n",
              "      <th>7782</th>\n",
              "      <td>seen live</td>\n",
              "      <td>1439</td>\n",
              "    </tr>\n",
              "  </tbody>\n",
              "</table>\n",
              "<p>20 rows × 2 columns</p>\n",
              "</div>"
            ],
            "text/plain": [
              "         tagValue  count\n",
              "7473         rock   7503\n",
              "6802          pop   5418\n",
              "441   alternative   5251\n",
              "2709   electronic   4672\n",
              "4393        indie   4458\n",
              "...           ...    ...\n",
              "5608        metal   1729\n",
              "497       ambient   1699\n",
              "207           90s   1615\n",
              "6160     new wave   1595\n",
              "7782    seen live   1439\n",
              "\n",
              "[20 rows x 2 columns]"
            ]
          },
          "metadata": {
            "tags": []
          },
          "execution_count": 24
        }
      ]
    },
    {
      "cell_type": "code",
      "metadata": {
        "colab": {
          "base_uri": "https://localhost:8080/",
          "height": 293
        },
        "id": "8NALNjZuXFiw",
        "outputId": "5d382b59-1591-46c6-99cd-ca14bd6f44cd"
      },
      "source": [
        "ax = sns.barplot(x=\"tagValue\", y=\"count\", data=top_tags)\r\n",
        "ax.set_xticklabels(ax.get_xticklabels(), rotation=40, ha=\"right\")\r\n",
        "plt.tight_layout()\r\n",
        "plt.show()"
      ],
      "execution_count": null,
      "outputs": [
        {
          "output_type": "display_data",
          "data": {
            "image/png": "[encoded data removed]",
            "text/plain": [
              "<Figure size 432x288 with 1 Axes>"
            ]
          },
          "metadata": {
            "tags": []
          }
        }
      ]
    },
    {
      "cell_type": "markdown",
      "metadata": {
        "id": "WJ-A2IkvfIHd"
      },
      "source": [
        "From the plot above, we can see the top tags and most are not very surprising. 'rock' is the most widely assigned tag comfortably."
      ]
    },
    {
      "cell_type": "markdown",
      "metadata": {
        "id": "klLCPROIeFAh"
      },
      "source": [
        "### Analysis of Users' Interaction with Artists"
      ]
    },
    {
      "cell_type": "code",
      "metadata": {
        "colab": {
          "base_uri": "https://localhost:8080/",
          "height": 204
        },
        "id": "8J8DUf2Ifxgj",
        "outputId": "ec1184a2-1ef6-4660-e51c-caa99962aa3f"
      },
      "source": [
        "user_artists.head()"
      ],
      "execution_count": null,
      "outputs": [
        {
          "output_type": "execute_result",
          "data": {
            "text/html": [
              "<div>\n",
              "<style scoped>\n",
              "    .dataframe tbody tr th:only-of-type {\n",
              "        vertical-align: middle;\n",
              "    }\n",
              "\n",
              "    .dataframe tbody tr th {\n",
              "        vertical-align: top;\n",
              "    }\n",
              "\n",
              "    .dataframe thead th {\n",
              "        text-align: right;\n",
              "    }\n",
              "</style>\n",
              "<table border=\"1\" class=\"dataframe\">\n",
              "  <thead>\n",
              "    <tr style=\"text-align: right;\">\n",
              "      <th></th>\n",
              "      <th>userID</th>\n",
              "      <th>artistID</th>\n",
              "      <th>weight</th>\n",
              "    </tr>\n",
              "  </thead>\n",
              "  <tbody>\n",
              "    <tr>\n",
              "      <th>0</th>\n",
              "      <td>0</td>\n",
              "      <td>50</td>\n",
              "      <td>13883</td>\n",
              "    </tr>\n",
              "    <tr>\n",
              "      <th>1</th>\n",
              "      <td>0</td>\n",
              "      <td>51</td>\n",
              "      <td>11690</td>\n",
              "    </tr>\n",
              "    <tr>\n",
              "      <th>2</th>\n",
              "      <td>0</td>\n",
              "      <td>52</td>\n",
              "      <td>11351</td>\n",
              "    </tr>\n",
              "    <tr>\n",
              "      <th>3</th>\n",
              "      <td>0</td>\n",
              "      <td>53</td>\n",
              "      <td>10300</td>\n",
              "    </tr>\n",
              "    <tr>\n",
              "      <th>4</th>\n",
              "      <td>0</td>\n",
              "      <td>54</td>\n",
              "      <td>8983</td>\n",
              "    </tr>\n",
              "  </tbody>\n",
              "</table>\n",
              "</div>"
            ],
            "text/plain": [
              "  userID artistID  weight\n",
              "0      0       50   13883\n",
              "1      0       51   11690\n",
              "2      0       52   11351\n",
              "3      0       53   10300\n",
              "4      0       54    8983"
            ]
          },
          "metadata": {
            "tags": []
          },
          "execution_count": 33
        }
      ]
    },
    {
      "cell_type": "markdown",
      "metadata": {
        "id": "WoUVoB_vf0kE"
      },
      "source": [
        "The *weight* column in the above DataFrame is representative of the listening count of the user for that particular artist, according to the documentation. Let's examine the distribution of this weight column."
      ]
    },
    {
      "cell_type": "code",
      "metadata": {
        "colab": {
          "base_uri": "https://localhost:8080/",
          "height": 391
        },
        "id": "D98UgGwKql6N",
        "outputId": "63d0b5f0-5512-4f88-eb1c-ce76ce2da8f5"
      },
      "source": [
        "ax = sns.displot(data = user_artists, x = 'weight', bins = 20)\r\n",
        "ax.set_xticklabels(rotation=40)\r\n",
        "plt.show()"
      ],
      "execution_count": null,
      "outputs": [
        {
          "output_type": "display_data",
          "data": {
            "image/png": "[encoded data removed]",
            "text/plain": [
              "<Figure size 360x360 with 1 Axes>"
            ]
          },
          "metadata": {
            "tags": []
          }
        }
      ]
    },
    {
      "cell_type": "markdown",
      "metadata": {
        "id": "oqwqCI1DgTxE"
      },
      "source": [
        "From above, we can clearly see that some outlier weights are heavily skewing this distribution. Let's get a better look at this by plotting a box chart."
      ]
    },
    {
      "cell_type": "code",
      "metadata": {
        "colab": {
          "base_uri": "https://localhost:8080/",
          "height": 302
        },
        "id": "m5WX2kHZgikm",
        "outputId": "2391285c-fd28-4bf4-ae0b-91b26fff12b4"
      },
      "source": [
        "sns.boxplot(data=user_artists, x=\"weight\")"
      ],
      "execution_count": null,
      "outputs": [
        {
          "output_type": "execute_result",
          "data": {
            "text/plain": [
              "<matplotlib.axes._subplots.AxesSubplot at 0x7f1b847f9da0>"
            ]
          },
          "metadata": {
            "tags": []
          },
          "execution_count": 42
        },
        {
          "output_type": "display_data",
          "data": {
            "image/png": "[encoded data removed]",
            "text/plain": [
              "<Figure size 432x288 with 1 Axes>"
            ]
          },
          "metadata": {
            "tags": []
          }
        }
      ]
    },
    {
      "cell_type": "code",
      "metadata": {
        "colab": {
          "base_uri": "https://localhost:8080/"
        },
        "id": "aUv57LPTOEgh",
        "outputId": "445af220-3d42-45aa-ff8a-48e9ba3c88ac"
      },
      "source": [
        "user_artists.weight.describe()"
      ],
      "execution_count": null,
      "outputs": [
        {
          "output_type": "execute_result",
          "data": {
            "text/plain": [
              "count    92834.000\n",
              "mean       745.244\n",
              "std       3751.322\n",
              "min          1.000\n",
              "25%        107.000\n",
              "50%        260.000\n",
              "75%        614.000\n",
              "max     352698.000\n",
              "Name: weight, dtype: float64"
            ]
          },
          "metadata": {
            "tags": []
          },
          "execution_count": 26
        }
      ]
    },
    {
      "cell_type": "markdown",
      "metadata": {
        "id": "cl4KcPfuhNiZ"
      },
      "source": [
        "The box plot above underscores the heavy skew in this distribution along with the difference between the upper quartile and max value which can also be seen above."
      ]
    },
    {
      "cell_type": "markdown",
      "metadata": {
        "id": "PNXOCCu5hc3a"
      },
      "source": [
        "### Normalising the Weights"
      ]
    },
    {
      "cell_type": "markdown",
      "metadata": {
        "id": "8dktxH6Zfebd"
      },
      "source": [
        "Firstly, let's attempt to z-standardise the weights and see if that produces a nicer distribution."
      ]
    },
    {
      "cell_type": "code",
      "metadata": {
        "colab": {
          "base_uri": "https://localhost:8080/",
          "height": 419
        },
        "id": "Cuneg8W0Oveu",
        "outputId": "98fe2ac0-a328-4a8e-fbfa-1ec9dbe7303b"
      },
      "source": [
        "std_user_artists = user_artists.copy()\r\n",
        "cols = list(std_user_artists.columns)\r\n",
        "cols.remove('userID')\r\n",
        "cols.remove('artistID')\r\n",
        "#user_artists[cols]\r\n",
        "for col in cols:\r\n",
        "    col_zscore = col + '_zscore'\r\n",
        "    std_user_artists[col_zscore] = (std_user_artists[col] - std_user_artists[col].mean())/std_user_artists[col].std(ddof=0)\r\n",
        "std_user_artists"
      ],
      "execution_count": null,
      "outputs": [
        {
          "output_type": "execute_result",
          "data": {
            "text/html": [
              "<div>\n",
              "<style scoped>\n",
              "    .dataframe tbody tr th:only-of-type {\n",
              "        vertical-align: middle;\n",
              "    }\n",
              "\n",
              "    .dataframe tbody tr th {\n",
              "        vertical-align: top;\n",
              "    }\n",
              "\n",
              "    .dataframe thead th {\n",
              "        text-align: right;\n",
              "    }\n",
              "</style>\n",
              "<table border=\"1\" class=\"dataframe\">\n",
              "  <thead>\n",
              "    <tr style=\"text-align: right;\">\n",
              "      <th></th>\n",
              "      <th>userID</th>\n",
              "      <th>artistID</th>\n",
              "      <th>weight</th>\n",
              "      <th>weight_zscore</th>\n",
              "    </tr>\n",
              "  </thead>\n",
              "  <tbody>\n",
              "    <tr>\n",
              "      <th>0</th>\n",
              "      <td>0</td>\n",
              "      <td>50</td>\n",
              "      <td>13883</td>\n",
              "      <td>3.502</td>\n",
              "    </tr>\n",
              "    <tr>\n",
              "      <th>1</th>\n",
              "      <td>0</td>\n",
              "      <td>51</td>\n",
              "      <td>11690</td>\n",
              "      <td>2.918</td>\n",
              "    </tr>\n",
              "    <tr>\n",
              "      <th>2</th>\n",
              "      <td>0</td>\n",
              "      <td>52</td>\n",
              "      <td>11351</td>\n",
              "      <td>2.827</td>\n",
              "    </tr>\n",
              "    <tr>\n",
              "      <th>3</th>\n",
              "      <td>0</td>\n",
              "      <td>53</td>\n",
              "      <td>10300</td>\n",
              "      <td>2.547</td>\n",
              "    </tr>\n",
              "    <tr>\n",
              "      <th>4</th>\n",
              "      <td>0</td>\n",
              "      <td>54</td>\n",
              "      <td>8983</td>\n",
              "      <td>2.196</td>\n",
              "    </tr>\n",
              "    <tr>\n",
              "      <th>...</th>\n",
              "      <td>...</td>\n",
              "      <td>...</td>\n",
              "      <td>...</td>\n",
              "      <td>...</td>\n",
              "    </tr>\n",
              "    <tr>\n",
              "      <th>92829</th>\n",
              "      <td>2098</td>\n",
              "      <td>18725</td>\n",
              "      <td>337</td>\n",
              "      <td>-0.109</td>\n",
              "    </tr>\n",
              "    <tr>\n",
              "      <th>92830</th>\n",
              "      <td>2098</td>\n",
              "      <td>18726</td>\n",
              "      <td>297</td>\n",
              "      <td>-0.119</td>\n",
              "    </tr>\n",
              "    <tr>\n",
              "      <th>92831</th>\n",
              "      <td>2098</td>\n",
              "      <td>18727</td>\n",
              "      <td>281</td>\n",
              "      <td>-0.124</td>\n",
              "    </tr>\n",
              "    <tr>\n",
              "      <th>92832</th>\n",
              "      <td>2098</td>\n",
              "      <td>18728</td>\n",
              "      <td>280</td>\n",
              "      <td>-0.124</td>\n",
              "    </tr>\n",
              "    <tr>\n",
              "      <th>92833</th>\n",
              "      <td>2098</td>\n",
              "      <td>18729</td>\n",
              "      <td>263</td>\n",
              "      <td>-0.129</td>\n",
              "    </tr>\n",
              "  </tbody>\n",
              "</table>\n",
              "<p>92834 rows × 4 columns</p>\n",
              "</div>"
            ],
            "text/plain": [
              "      userID artistID  weight  weight_zscore\n",
              "0          0       50   13883          3.502\n",
              "1          0       51   11690          2.918\n",
              "2          0       52   11351          2.827\n",
              "3          0       53   10300          2.547\n",
              "4          0       54    8983          2.196\n",
              "...      ...      ...     ...            ...\n",
              "92829   2098    18725     337         -0.109\n",
              "92830   2098    18726     297         -0.119\n",
              "92831   2098    18727     281         -0.124\n",
              "92832   2098    18728     280         -0.124\n",
              "92833   2098    18729     263         -0.129\n",
              "\n",
              "[92834 rows x 4 columns]"
            ]
          },
          "metadata": {
            "tags": []
          },
          "execution_count": 27
        }
      ]
    },
    {
      "cell_type": "code",
      "metadata": {
        "colab": {
          "base_uri": "https://localhost:8080/"
        },
        "id": "3CRmRlSnPgMn",
        "outputId": "6f67b59e-fc22-4908-8a07-5c16ea4d0269"
      },
      "source": [
        "std_user_artists.weight_zscore.describe()"
      ],
      "execution_count": null,
      "outputs": [
        {
          "output_type": "execute_result",
          "data": {
            "text/plain": [
              "count   92834.000\n",
              "mean        0.000\n",
              "std         1.000\n",
              "min        -0.198\n",
              "25%        -0.170\n",
              "50%        -0.129\n",
              "75%        -0.035\n",
              "max        93.821\n",
              "Name: weight_zscore, dtype: float64"
            ]
          },
          "metadata": {
            "tags": []
          },
          "execution_count": 35
        }
      ]
    },
    {
      "cell_type": "markdown",
      "metadata": {
        "id": "cPJfFNHxQsux"
      },
      "source": [
        "Z-standardisation does not have the desired effect however. The highest z-score is 93.821 and the upper quartile is less than zero, so we will have to try another method.\r\n",
        "\r\n",
        "Another possibility would be to set the value of the outliers to a lower maximum value (i.e. put a cap on the weights) and then use a max-min scaler to scale the remaining weights into an easy-to-interpret 1-5 scale.\r\n",
        "\r\n",
        "After some experimentation, we think a reasonable cap for the weights is 1500. Therefore, we are going to set any weights above 1500 to this value."
      ]
    },
    {
      "cell_type": "code",
      "metadata": {
        "colab": {
          "base_uri": "https://localhost:8080/"
        },
        "id": "IbxlkwCCiOWg",
        "outputId": "6fa48c6c-a23e-435e-86d8-4f12837248ef"
      },
      "source": [
        "user_artists[user_artists[\"weight\"] > 1500][\"weight\"] = 1500"
      ],
      "execution_count": null,
      "outputs": [
        {
          "output_type": "stream",
          "text": [
            "/usr/local/lib/python3.6/dist-packages/ipykernel_launcher.py:1: SettingWithCopyWarning: \n",
            "A value is trying to be set on a copy of a slice from a DataFrame.\n",
            "Try using .loc[row_indexer,col_indexer] = value instead\n",
            "\n",
            "See the caveats in the documentation: https://pandas.pydata.org/pandas-docs/stable/user_guide/indexing.html#returning-a-view-versus-a-copy\n",
            "  \"\"\"Entry point for launching an IPython kernel.\n"
          ],
          "name": "stderr"
        }
      ]
    },
    {
      "cell_type": "code",
      "metadata": {
        "id": "iGo1pXqflIPh"
      },
      "source": [
        "indexes = user_artists[user_artists[\"weight\"] > 1500].index"
      ],
      "execution_count": null,
      "outputs": []
    },
    {
      "cell_type": "code",
      "metadata": {
        "id": "ZHnUc44Yljtd"
      },
      "source": [
        "# Set the value of all of these weights to 1500\r\n",
        "user_artists.iloc[indexes,2] = 1500"
      ],
      "execution_count": null,
      "outputs": []
    },
    {
      "cell_type": "markdown",
      "metadata": {
        "id": "RR4FucevmgBq"
      },
      "source": [
        "Now, the distribution is not as heavily skewed as can be seen from the box plot below..."
      ]
    },
    {
      "cell_type": "code",
      "metadata": {
        "colab": {
          "base_uri": "https://localhost:8080/",
          "height": 302
        },
        "id": "lrPfb3kJmEh-",
        "outputId": "fc95ef36-9e92-48f1-c2dd-3535ce9da176"
      },
      "source": [
        "sns.boxplot(data=user_artists, x=\"weight\")"
      ],
      "execution_count": null,
      "outputs": [
        {
          "output_type": "execute_result",
          "data": {
            "text/plain": [
              "<matplotlib.axes._subplots.AxesSubplot at 0x7f1b848b0898>"
            ]
          },
          "metadata": {
            "tags": []
          },
          "execution_count": 64
        },
        {
          "output_type": "display_data",
          "data": {
            "image/png": "[encoded data removed]",
            "text/plain": [
              "<Figure size 432x288 with 1 Axes>"
            ]
          },
          "metadata": {
            "tags": []
          }
        }
      ]
    },
    {
      "cell_type": "markdown",
      "metadata": {
        "id": "_KMT2EM0o3i2"
      },
      "source": [
        "The code below scales the weights to an interval between 1-5 using an interpolation function from NumPy."
      ]
    },
    {
      "cell_type": "code",
      "metadata": {
        "colab": {
          "base_uri": "https://localhost:8080/"
        },
        "id": "eo78n7AMmQcg",
        "outputId": "44a1cc11-61bf-4c27-a9f1-7deb746aa276"
      },
      "source": [
        "user_artists['alt_weight'] = float\r\n",
        "\r\n",
        "min_weight = min(user_artists.weight)\r\n",
        "max_weight = max(user_artists.weight)\r\n",
        "\r\n",
        "for i in range(0,len(user_artists)):\r\n",
        "  user_artists.alt_weight.iloc[i] = np.interp(user_artists.weight.iloc[i],[min_weight,max_weight],[1,5])"
      ],
      "execution_count": null,
      "outputs": [
        {
          "output_type": "stream",
          "text": [
            "/usr/local/lib/python3.6/dist-packages/pandas/core/indexing.py:670: SettingWithCopyWarning: \n",
            "A value is trying to be set on a copy of a slice from a DataFrame\n",
            "\n",
            "See the caveats in the documentation: https://pandas.pydata.org/pandas-docs/stable/user_guide/indexing.html#returning-a-view-versus-a-copy\n",
            "  iloc._setitem_with_indexer(indexer, value)\n"
          ],
          "name": "stderr"
        }
      ]
    },
    {
      "cell_type": "markdown",
      "metadata": {
        "id": "NdODQvsPpEsk"
      },
      "source": [
        "The plot below shows the new distribution of weights..."
      ]
    },
    {
      "cell_type": "code",
      "metadata": {
        "colab": {
          "base_uri": "https://localhost:8080/",
          "height": 365
        },
        "id": "EmzwBqhGoNzj",
        "outputId": "83d2e3b8-688c-438b-ce8c-2ec2a5c334de"
      },
      "source": [
        "ax = sns.displot(data = user_artists, x = 'alt_weight', bins = 20)"
      ],
      "execution_count": null,
      "outputs": [
        {
          "output_type": "display_data",
          "data": {
            "image/png": "[encoded data removed]",
            "text/plain": [
              "<Figure size 360x360 with 1 Axes>"
            ]
          },
          "metadata": {
            "tags": []
          }
        }
      ]
    },
    {
      "cell_type": "markdown",
      "metadata": {
        "id": "okET0h-YpQT8"
      },
      "source": [
        "We can now write this DataFrame with normalised weights to our Drive and we are ready to begin builidng our recommender system."
      ]
    },
    {
      "cell_type": "code",
      "metadata": {
        "id": "g3tmWFfToa-C"
      },
      "source": [
        "# user_artists.to_csv('data_clean/new_user_artists.csv', index=False)"
      ],
      "execution_count": null,
      "outputs": []
    },
    {
      "cell_type": "code",
      "metadata": {
        "id": "gjWsEzq7W-rD"
      },
      "source": [
        ""
      ],
      "execution_count": null,
      "outputs": []
    }
  ]
}